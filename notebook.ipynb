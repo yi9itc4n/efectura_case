{
 "cells": [
  {
   "metadata": {
    "ExecuteTime": {
     "end_time": "2025-07-20T15:06:55.277513Z",
     "start_time": "2025-07-20T15:06:55.270825Z"
    }
   },
   "cell_type": "code",
   "source": "",
   "id": "c5d1b6610a1969cc",
   "outputs": [],
   "execution_count": null
  },
  {
   "metadata": {},
   "cell_type": "code",
   "outputs": [],
   "execution_count": null,
   "source": "",
   "id": "1e0718167bab463f"
  }
 ],
 "metadata": {
  "kernelspec": {
   "name": "python3",
   "language": "python",
   "display_name": "Python 3 (ipykernel)"
  }
 },
 "nbformat": 4,
 "nbformat_minor": 5
}
